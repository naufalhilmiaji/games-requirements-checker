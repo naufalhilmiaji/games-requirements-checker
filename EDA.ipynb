{
 "cells": [
  {
   "cell_type": "markdown",
   "metadata": {},
   "source": [
    "# Exploratory Data Analysis"
   ]
  },
  {
   "cell_type": "code",
   "execution_count": 7,
   "metadata": {},
   "outputs": [],
   "source": [
    "import pandas as pd\n",
    "import numpy as np\n",
    "import math, requests, json, re, time, sys, ast, warnings\n",
    "from sklearn.preprocessing import *\n",
    "\n",
    "warnings.filterwarnings('ignore')"
   ]
  },
  {
   "cell_type": "markdown",
   "metadata": {},
   "source": [
    "## Import Data"
   ]
  },
  {
   "cell_type": "code",
   "execution_count": 8,
   "metadata": {},
   "outputs": [
    {
     "data": {
      "text/html": [
       "<div>\n",
       "<style scoped>\n",
       "    .dataframe tbody tr th:only-of-type {\n",
       "        vertical-align: middle;\n",
       "    }\n",
       "\n",
       "    .dataframe tbody tr th {\n",
       "        vertical-align: top;\n",
       "    }\n",
       "\n",
       "    .dataframe thead th {\n",
       "        text-align: right;\n",
       "    }\n",
       "</style>\n",
       "<table border=\"1\" class=\"dataframe\">\n",
       "  <thead>\n",
       "    <tr style=\"text-align: right;\">\n",
       "      <th></th>\n",
       "      <th>appid</th>\n",
       "      <th>developer</th>\n",
       "      <th>publisher</th>\n",
       "      <th>score_rank</th>\n",
       "      <th>positive</th>\n",
       "      <th>negative</th>\n",
       "      <th>initialprice</th>\n",
       "      <th>discount</th>\n",
       "      <th>ccu</th>\n",
       "      <th>languages</th>\n",
       "      <th>...</th>\n",
       "      <th>detailed_description</th>\n",
       "      <th>about_the_game</th>\n",
       "      <th>short_description</th>\n",
       "      <th>header_image</th>\n",
       "      <th>website</th>\n",
       "      <th>pc_requirements</th>\n",
       "      <th>mac_requirements</th>\n",
       "      <th>linux_requirements</th>\n",
       "      <th>release_date</th>\n",
       "      <th>metacritic</th>\n",
       "    </tr>\n",
       "  </thead>\n",
       "  <tbody>\n",
       "    <tr>\n",
       "      <th>0</th>\n",
       "      <td>10</td>\n",
       "      <td>Valve</td>\n",
       "      <td>Valve</td>\n",
       "      <td>NaN</td>\n",
       "      <td>190150</td>\n",
       "      <td>4865</td>\n",
       "      <td>999</td>\n",
       "      <td>0</td>\n",
       "      <td>14139</td>\n",
       "      <td>English, French, German, Italian, Spanish - Sp...</td>\n",
       "      <td>...</td>\n",
       "      <td>Play the world's number 1 online action game. ...</td>\n",
       "      <td>Play the world's number 1 online action game. ...</td>\n",
       "      <td>Play the world's number 1 online action game. ...</td>\n",
       "      <td>https://cdn.akamai.steamstatic.com/steam/apps/...</td>\n",
       "      <td>0</td>\n",
       "      <td>{'minimum': '\\r\\n\\t\\t\\t&lt;p&gt;&lt;strong&gt;Minimum:&lt;/st...</td>\n",
       "      <td>{'minimum': 'Minimum: OS X  Snow Leopard 10.6....</td>\n",
       "      <td>{'minimum': 'Minimum: Linux Ubuntu 12.04, Dual...</td>\n",
       "      <td>{'coming_soon': False, 'date': '1 Nov, 2000'}</td>\n",
       "      <td>{'score': 88, 'url': 'https://www.metacritic.c...</td>\n",
       "    </tr>\n",
       "    <tr>\n",
       "      <th>1</th>\n",
       "      <td>10090</td>\n",
       "      <td>Treyarch</td>\n",
       "      <td>Activision</td>\n",
       "      <td>NaN</td>\n",
       "      <td>35995</td>\n",
       "      <td>2877</td>\n",
       "      <td>1999</td>\n",
       "      <td>0</td>\n",
       "      <td>519</td>\n",
       "      <td>English, French, Italian, German, Spanish - Spain</td>\n",
       "      <td>...</td>\n",
       "      <td>Call of Duty is back, redefining war like you'...</td>\n",
       "      <td>Call of Duty is back, redefining war like you'...</td>\n",
       "      <td>Call of Duty is back, redefining war like you'...</td>\n",
       "      <td>https://cdn.akamai.steamstatic.com/steam/apps/...</td>\n",
       "      <td>http://www.callofduty.com</td>\n",
       "      <td>{'minimum': '&lt;ul class=\"bb_ul\"&gt;&lt;li&gt;&lt;strong&gt;Sup...</td>\n",
       "      <td>[]</td>\n",
       "      <td>[]</td>\n",
       "      <td>{'coming_soon': False, 'date': '18 Nov, 2008'}</td>\n",
       "      <td>{'score': 83, 'url': 'https://www.metacritic.c...</td>\n",
       "    </tr>\n",
       "  </tbody>\n",
       "</table>\n",
       "<p>2 rows × 25 columns</p>\n",
       "</div>"
      ],
      "text/plain": [
       "   appid developer   publisher  score_rank  positive  negative initialprice  \\\n",
       "0     10     Valve       Valve         NaN    190150      4865          999   \n",
       "1  10090  Treyarch  Activision         NaN     35995      2877         1999   \n",
       "\n",
       "  discount    ccu                                          languages  ...  \\\n",
       "0        0  14139  English, French, German, Italian, Spanish - Sp...  ...   \n",
       "1        0    519  English, French, Italian, German, Spanish - Spain  ...   \n",
       "\n",
       "                                detailed_description  \\\n",
       "0  Play the world's number 1 online action game. ...   \n",
       "1  Call of Duty is back, redefining war like you'...   \n",
       "\n",
       "                                      about_the_game  \\\n",
       "0  Play the world's number 1 online action game. ...   \n",
       "1  Call of Duty is back, redefining war like you'...   \n",
       "\n",
       "                                   short_description  \\\n",
       "0  Play the world's number 1 online action game. ...   \n",
       "1  Call of Duty is back, redefining war like you'...   \n",
       "\n",
       "                                        header_image  \\\n",
       "0  https://cdn.akamai.steamstatic.com/steam/apps/...   \n",
       "1  https://cdn.akamai.steamstatic.com/steam/apps/...   \n",
       "\n",
       "                     website  \\\n",
       "0                          0   \n",
       "1  http://www.callofduty.com   \n",
       "\n",
       "                                     pc_requirements  \\\n",
       "0  {'minimum': '\\r\\n\\t\\t\\t<p><strong>Minimum:</st...   \n",
       "1  {'minimum': '<ul class=\"bb_ul\"><li><strong>Sup...   \n",
       "\n",
       "                                    mac_requirements  \\\n",
       "0  {'minimum': 'Minimum: OS X  Snow Leopard 10.6....   \n",
       "1                                                 []   \n",
       "\n",
       "                                  linux_requirements  \\\n",
       "0  {'minimum': 'Minimum: Linux Ubuntu 12.04, Dual...   \n",
       "1                                                 []   \n",
       "\n",
       "                                     release_date  \\\n",
       "0   {'coming_soon': False, 'date': '1 Nov, 2000'}   \n",
       "1  {'coming_soon': False, 'date': '18 Nov, 2008'}   \n",
       "\n",
       "                                          metacritic  \n",
       "0  {'score': 88, 'url': 'https://www.metacritic.c...  \n",
       "1  {'score': 83, 'url': 'https://www.metacritic.c...  \n",
       "\n",
       "[2 rows x 25 columns]"
      ]
     },
     "execution_count": 8,
     "metadata": {},
     "output_type": "execute_result"
    }
   ],
   "source": [
    "df = pd.read_csv('datasets/steam_dataset/steamapi/csv/steamapp_api.csv',sep=',')\n",
    "df.head(2)"
   ]
  },
  {
   "cell_type": "code",
   "execution_count": 9,
   "metadata": {},
   "outputs": [
    {
     "data": {
      "text/plain": [
       "(39831, 25)"
      ]
     },
     "execution_count": 9,
     "metadata": {},
     "output_type": "execute_result"
    }
   ],
   "source": [
    "df.shape"
   ]
  },
  {
   "cell_type": "markdown",
   "metadata": {},
   "source": [
    "### Data Preprocessing"
   ]
  },
  {
   "cell_type": "code",
   "execution_count": 10,
   "metadata": {},
   "outputs": [],
   "source": [
    "df_copy = df.copy()\n",
    "df_copy.reset_index(inplace=True, drop=True)\n",
    "for i in range(len(df_copy)):\n",
    "    df_copy['release_date'][i] = ast.literal_eval(df_copy['release_date'][i])\n",
    "    df_copy['tags'][i] = ast.literal_eval(df_copy['tags'][i])\n",
    "    df_copy['metacritic'][i] = ast.literal_eval(df_copy['metacritic'][i])"
   ]
  },
  {
   "cell_type": "code",
   "execution_count": 11,
   "metadata": {},
   "outputs": [],
   "source": [
    "df_copy.fillna(np.NaN, inplace=True)"
   ]
  },
  {
   "cell_type": "code",
   "execution_count": 12,
   "metadata": {},
   "outputs": [],
   "source": [
    "df_copy['date'] = np.nan\n",
    "for i in range(len(df_copy)):\n",
    "    df_copy['date'][i] = list(df_copy['release_date'][i].values())[1]"
   ]
  },
  {
   "cell_type": "markdown",
   "metadata": {},
   "source": [
    "Splitting Tags and Metacritic"
   ]
  },
  {
   "cell_type": "code",
   "execution_count": 13,
   "metadata": {},
   "outputs": [],
   "source": [
    "df_copy['steamspy_tags'] = np.nan\n",
    "df_copy['meta_score'] = np.nan\n",
    "for i in range(len(df_copy)):\n",
    "    df_copy['steamspy_tags'][i] = list(df_copy['tags'][i])\n",
    "    if type(df_copy['metacritic'][i]) == dict:\n",
    "        df_copy['meta_score'][i] = list(df_copy['metacritic'][i].values())[0]\n",
    "    else:\n",
    "        df_copy['meta_score'][i] = 0"
   ]
  },
  {
   "cell_type": "code",
   "execution_count": 14,
   "metadata": {},
   "outputs": [],
   "source": [
    "df_copy['steamspy_tags'] = df_copy['steamspy_tags'].apply(lambda x: ', '.join(map(str, x)))"
   ]
  },
  {
   "cell_type": "markdown",
   "metadata": {},
   "source": [
    "Requirements"
   ]
  },
  {
   "cell_type": "code",
   "execution_count": 15,
   "metadata": {},
   "outputs": [],
   "source": [
    "# df_copy['pc_requirements'] = df_copy['pc_requirements'].map({'[]': np.NaN})"
   ]
  },
  {
   "cell_type": "code",
   "execution_count": 16,
   "metadata": {},
   "outputs": [],
   "source": [
    "# df_copy[df_copy['pc_requirements'] == '[]']['pc_requirements'] = ''\n",
    "# df_copy[df_copy['mac_requirements'] == '[]']['mac_requirements'] = ''\n",
    "# df_copy[df_copy['linux_requirements'] == '[]']['linux_requirements'] = ''"
   ]
  },
  {
   "cell_type": "code",
   "execution_count": 17,
   "metadata": {},
   "outputs": [],
   "source": [
    "df_pcr = (df['pc_requirements'].str.replace(r'\\\\[rtn]', '')\n",
    "                                .str.replace(r'<[pbr]{1,2}>', ' ')\n",
    "                                .str.replace(r'<[\\/\"=\\w\\s]+>', '')\n",
    "                                )\n",
    "df_pcr = df_pcr.apply(lambda x: ast.literal_eval(x))"
   ]
  },
  {
   "cell_type": "code",
   "execution_count": 18,
   "metadata": {},
   "outputs": [
    {
     "data": {
      "text/plain": [
       "str"
      ]
     },
     "execution_count": 18,
     "metadata": {},
     "output_type": "execute_result"
    }
   ],
   "source": [
    "type(df_pcr[0]['minimum'].replace('Minimum:', '').strip())"
   ]
  },
  {
   "cell_type": "code",
   "execution_count": 19,
   "metadata": {},
   "outputs": [
    {
     "name": "stdout",
     "output_type": "stream",
     "text": [
      "<class 'dict'>\n",
      "{\"Minimum\": \"-\", \"Recommended\": \"-\"}\n"
     ]
    }
   ],
   "source": [
    "xs = '[]'\n",
    "xs = xs.replace('[]', '{\"Minimum\": \"-\", \"Recommended\": \"-\"}')\n",
    "xs_a = ast.literal_eval(xs)\n",
    "print(type(xs_a))\n",
    "print(xs)"
   ]
  },
  {
   "cell_type": "code",
   "execution_count": 20,
   "metadata": {},
   "outputs": [
    {
     "data": {
      "text/plain": [
       "0        {'minimum': '\\r\\n\\t\\t\\t<p><strong>Minimum:</st...\n",
       "1        {'minimum': '<ul class=\"bb_ul\"><li><strong>Sup...\n",
       "2        {'minimum': '<ul class=\"bb_ul\"><li><strong>OS:...\n",
       "3        {'minimum': '<strong>Minimum:</strong><br>\\t\\t...\n",
       "4        {'minimum': '<strong>Minimum:</strong><br><ul ...\n",
       "                               ...                        \n",
       "39826    {'minimum': '<strong>Minimum:</strong><br><ul ...\n",
       "39827    {'minimum': '<strong>Minimum:</strong><br><ul ...\n",
       "39828    {'minimum': '<strong>Minimum:</strong><br><ul ...\n",
       "39829    {'minimum': '<strong>Minimum:</strong><br><ul ...\n",
       "39830    {'minimum': '<strong>Minimum:</strong><br><ul ...\n",
       "Name: pc_requirements, Length: 39831, dtype: object"
      ]
     },
     "execution_count": 20,
     "metadata": {},
     "output_type": "execute_result"
    }
   ],
   "source": [
    "df['pc_requirements'].apply(lambda x: x.replace('[]', '{\"Minimum\": \"-\", \"Recommended\": \"-\"}') \n",
    "                                                        if '[]' in x else x)"
   ]
  },
  {
   "cell_type": "code",
   "execution_count": 21,
   "metadata": {},
   "outputs": [],
   "source": [
    "def process_req(df, col):\n",
    "    df[f'{col}_cleaned'] = df[col].apply(lambda x: x.replace('[]', '{\"Minimum\": \"-\", \"Recommended\": \"-\"}') \n",
    "                                                        if '[]' in x else x)\n",
    "    df[f'{col}_cleaned'] = (df[f'{col}_cleaned']\n",
    "                                .str.replace(r'\\\\[rtn]', '')\n",
    "                                .str.replace(r'<[pbr]{1,2}>', ' ')\n",
    "                                .str.replace(r'<[\\/\"=\\w\\s]+>', ''))\n",
    "    df[f'{col}_cleaned'] = df[f'{col}_cleaned'].apply(lambda x: ast.literal_eval(x))\n",
    "    df[f'{col}_minimum'] = df[f'{col}_cleaned'].apply(lambda x: x['minimum'].replace('Minimum:', '').strip() \n",
    "                                                        if 'minimum' in x.keys() else np.nan)\n",
    "    df[f'{col}_recommended'] = df[f'{col}_cleaned'].apply(lambda x: x['recommended'].replace('Recommended:', '').strip() \n",
    "                                                        if 'recommended' in x.keys() else np.nan)\n",
    "    df.drop(f'{col}_cleaned', axis=1, inplace=True)\n",
    "\n",
    "    return df"
   ]
  },
  {
   "cell_type": "code",
   "execution_count": 22,
   "metadata": {},
   "outputs": [],
   "source": [
    "df_copy = process_req(df_copy, 'pc_requirements')\n",
    "df_copy = process_req(df_copy, 'mac_requirements')\n",
    "df_copy = process_req(df_copy, 'linux_requirements')"
   ]
  },
  {
   "cell_type": "code",
   "execution_count": 23,
   "metadata": {},
   "outputs": [
    {
     "data": {
      "text/html": [
       "<div>\n",
       "<style scoped>\n",
       "    .dataframe tbody tr th:only-of-type {\n",
       "        vertical-align: middle;\n",
       "    }\n",
       "\n",
       "    .dataframe tbody tr th {\n",
       "        vertical-align: top;\n",
       "    }\n",
       "\n",
       "    .dataframe thead th {\n",
       "        text-align: right;\n",
       "    }\n",
       "</style>\n",
       "<table border=\"1\" class=\"dataframe\">\n",
       "  <thead>\n",
       "    <tr style=\"text-align: right;\">\n",
       "      <th></th>\n",
       "      <th>appid</th>\n",
       "      <th>developer</th>\n",
       "      <th>publisher</th>\n",
       "      <th>score_rank</th>\n",
       "      <th>positive</th>\n",
       "      <th>negative</th>\n",
       "      <th>initialprice</th>\n",
       "      <th>discount</th>\n",
       "      <th>ccu</th>\n",
       "      <th>languages</th>\n",
       "      <th>...</th>\n",
       "      <th>metacritic</th>\n",
       "      <th>date</th>\n",
       "      <th>steamspy_tags</th>\n",
       "      <th>meta_score</th>\n",
       "      <th>pc_requirements_minimum</th>\n",
       "      <th>pc_requirements_recommended</th>\n",
       "      <th>mac_requirements_minimum</th>\n",
       "      <th>mac_requirements_recommended</th>\n",
       "      <th>linux_requirements_minimum</th>\n",
       "      <th>linux_requirements_recommended</th>\n",
       "    </tr>\n",
       "  </thead>\n",
       "  <tbody>\n",
       "    <tr>\n",
       "      <th>0</th>\n",
       "      <td>10</td>\n",
       "      <td>Valve</td>\n",
       "      <td>Valve</td>\n",
       "      <td>NaN</td>\n",
       "      <td>190150</td>\n",
       "      <td>4865</td>\n",
       "      <td>999</td>\n",
       "      <td>0</td>\n",
       "      <td>14139</td>\n",
       "      <td>English, French, German, Italian, Spanish - Sp...</td>\n",
       "      <td>...</td>\n",
       "      <td>{'score': 88, 'url': 'https://www.metacritic.c...</td>\n",
       "      <td>1 Nov, 2000</td>\n",
       "      <td>Action, FPS, Multiplayer, Shooter, Classic, Te...</td>\n",
       "      <td>88.0</td>\n",
       "      <td>500 mhz processor, 96mb ram, 16mb video card, ...</td>\n",
       "      <td>NaN</td>\n",
       "      <td>OS X  Snow Leopard 10.6.3, 1GB RAM, 4GB Hard D...</td>\n",
       "      <td>NaN</td>\n",
       "      <td>Linux Ubuntu 12.04, Dual-core from Intel or AM...</td>\n",
       "      <td>NaN</td>\n",
       "    </tr>\n",
       "    <tr>\n",
       "      <th>1</th>\n",
       "      <td>10090</td>\n",
       "      <td>Treyarch</td>\n",
       "      <td>Activision</td>\n",
       "      <td>NaN</td>\n",
       "      <td>35995</td>\n",
       "      <td>2877</td>\n",
       "      <td>1999</td>\n",
       "      <td>0</td>\n",
       "      <td>519</td>\n",
       "      <td>English, French, Italian, German, Spanish - Spain</td>\n",
       "      <td>...</td>\n",
       "      <td>{'score': 83, 'url': 'https://www.metacritic.c...</td>\n",
       "      <td>18 Nov, 2008</td>\n",
       "      <td>Zombies, World War II, FPS, Multiplayer, Actio...</td>\n",
       "      <td>83.0</td>\n",
       "      <td>Supported OS:  Windows XP/Vista/7             ...</td>\n",
       "      <td>NaN</td>\n",
       "      <td>NaN</td>\n",
       "      <td>NaN</td>\n",
       "      <td>NaN</td>\n",
       "      <td>NaN</td>\n",
       "    </tr>\n",
       "    <tr>\n",
       "      <th>2</th>\n",
       "      <td>10180</td>\n",
       "      <td>Infinity Ward</td>\n",
       "      <td>Activision</td>\n",
       "      <td>NaN</td>\n",
       "      <td>41509</td>\n",
       "      <td>3210</td>\n",
       "      <td>1999</td>\n",
       "      <td>0</td>\n",
       "      <td>510</td>\n",
       "      <td>English, French, German, Italian, Spanish - Spain</td>\n",
       "      <td>...</td>\n",
       "      <td>{'score': 86, 'url': 'https://www.metacritic.c...</td>\n",
       "      <td>11 Nov, 2009</td>\n",
       "      <td>Action, FPS, Multiplayer, Shooter, First-Perso...</td>\n",
       "      <td>86.0</td>\n",
       "      <td>OS: Microsoft Windows XP or Windows Vista (Win...</td>\n",
       "      <td>NaN</td>\n",
       "      <td>Operating System: 10.12 (Sierra)   CPU Process...</td>\n",
       "      <td>NaN</td>\n",
       "      <td>NaN</td>\n",
       "      <td>NaN</td>\n",
       "    </tr>\n",
       "  </tbody>\n",
       "</table>\n",
       "<p>3 rows × 34 columns</p>\n",
       "</div>"
      ],
      "text/plain": [
       "   appid      developer   publisher  score_rank  positive  negative  \\\n",
       "0     10          Valve       Valve         NaN    190150      4865   \n",
       "1  10090       Treyarch  Activision         NaN     35995      2877   \n",
       "2  10180  Infinity Ward  Activision         NaN     41509      3210   \n",
       "\n",
       "  initialprice discount    ccu  \\\n",
       "0          999        0  14139   \n",
       "1         1999        0    519   \n",
       "2         1999        0    510   \n",
       "\n",
       "                                           languages  ...  \\\n",
       "0  English, French, German, Italian, Spanish - Sp...  ...   \n",
       "1  English, French, Italian, German, Spanish - Spain  ...   \n",
       "2  English, French, German, Italian, Spanish - Spain  ...   \n",
       "\n",
       "                                          metacritic          date  \\\n",
       "0  {'score': 88, 'url': 'https://www.metacritic.c...   1 Nov, 2000   \n",
       "1  {'score': 83, 'url': 'https://www.metacritic.c...  18 Nov, 2008   \n",
       "2  {'score': 86, 'url': 'https://www.metacritic.c...  11 Nov, 2009   \n",
       "\n",
       "                                       steamspy_tags meta_score  \\\n",
       "0  Action, FPS, Multiplayer, Shooter, Classic, Te...       88.0   \n",
       "1  Zombies, World War II, FPS, Multiplayer, Actio...       83.0   \n",
       "2  Action, FPS, Multiplayer, Shooter, First-Perso...       86.0   \n",
       "\n",
       "                             pc_requirements_minimum  \\\n",
       "0  500 mhz processor, 96mb ram, 16mb video card, ...   \n",
       "1  Supported OS:  Windows XP/Vista/7             ...   \n",
       "2  OS: Microsoft Windows XP or Windows Vista (Win...   \n",
       "\n",
       "  pc_requirements_recommended  \\\n",
       "0                         NaN   \n",
       "1                         NaN   \n",
       "2                         NaN   \n",
       "\n",
       "                            mac_requirements_minimum  \\\n",
       "0  OS X  Snow Leopard 10.6.3, 1GB RAM, 4GB Hard D...   \n",
       "1                                                NaN   \n",
       "2  Operating System: 10.12 (Sierra)   CPU Process...   \n",
       "\n",
       "  mac_requirements_recommended  \\\n",
       "0                          NaN   \n",
       "1                          NaN   \n",
       "2                          NaN   \n",
       "\n",
       "                          linux_requirements_minimum  \\\n",
       "0  Linux Ubuntu 12.04, Dual-core from Intel or AM...   \n",
       "1                                                NaN   \n",
       "2                                                NaN   \n",
       "\n",
       "  linux_requirements_recommended  \n",
       "0                            NaN  \n",
       "1                            NaN  \n",
       "2                            NaN  \n",
       "\n",
       "[3 rows x 34 columns]"
      ]
     },
     "execution_count": 23,
     "metadata": {},
     "output_type": "execute_result"
    }
   ],
   "source": [
    "df_copy.head(3)"
   ]
  },
  {
   "cell_type": "code",
   "execution_count": 24,
   "metadata": {},
   "outputs": [
    {
     "data": {
      "text/plain": [
       "Index(['appid', 'developer', 'publisher', 'score_rank', 'positive', 'negative',\n",
       "       'initialprice', 'discount', 'ccu', 'languages', 'genre', 'tags', 'name',\n",
       "       'required_age', 'is_free', 'detailed_description', 'about_the_game',\n",
       "       'short_description', 'header_image', 'website', 'pc_requirements',\n",
       "       'mac_requirements', 'linux_requirements', 'release_date', 'metacritic',\n",
       "       'date', 'steamspy_tags', 'meta_score', 'pc_requirements_minimum',\n",
       "       'pc_requirements_recommended', 'mac_requirements_minimum',\n",
       "       'mac_requirements_recommended', 'linux_requirements_minimum',\n",
       "       'linux_requirements_recommended'],\n",
       "      dtype='object')"
      ]
     },
     "execution_count": 24,
     "metadata": {},
     "output_type": "execute_result"
    }
   ],
   "source": [
    "df_copy.columns"
   ]
  },
  {
   "cell_type": "code",
   "execution_count": 25,
   "metadata": {},
   "outputs": [],
   "source": [
    "df_steam = df_copy[['appid', 'name', 'developer', 'publisher',\n",
    "                    'genre', 'tags', 'is_free', 'initialprice', 'discount', 'ccu',\n",
    "                    'required_age', 'detailed_description', 'about_the_game',\n",
    "                    'short_description', 'date', 'pc_requirements_minimum',\n",
    "                    'pc_requirements_recommended', 'mac_requirements_minimum',\n",
    "                    'mac_requirements_recommended', 'linux_requirements_minimum',\n",
    "                    'linux_requirements_recommended', 'steamspy_tags', 'meta_score', 'score_rank',\n",
    "                    'header_image', 'website', 'languages']]"
   ]
  },
  {
   "cell_type": "code",
   "execution_count": 26,
   "metadata": {},
   "outputs": [],
   "source": [
    "df_steam.to_csv('D:/Projects/Github/games-requirements-checker/datasets/steam_dataset/steamapi/csv/steam_dataset.csv', index=False)"
   ]
  },
  {
   "cell_type": "markdown",
   "metadata": {},
   "source": [
    "## Preprocessed Data"
   ]
  },
  {
   "cell_type": "code",
   "execution_count": 38,
   "metadata": {},
   "outputs": [],
   "source": [
    "import pandas as pd\n",
    "import numpy as np\n",
    "import math, requests, json, re, time, sys, ast, warnings, dateparser, locale\n",
    "from sklearn.preprocessing import *\n",
    "\n",
    "warnings.filterwarnings('ignore')"
   ]
  },
  {
   "cell_type": "code",
   "execution_count": 37,
   "metadata": {},
   "outputs": [],
   "source": [
    "df_steam = pd.read_csv('D:/Projects/Github/games-requirements-checker/datasets/steam_dataset/steamapi/csv/steam_dataset.csv', sep=',')"
   ]
  },
  {
   "cell_type": "code",
   "execution_count": 45,
   "metadata": {},
   "outputs": [
    {
     "data": {
      "text/plain": [
       "0        2000-11-01\n",
       "1        2008-11-18\n",
       "2        2009-11-11\n",
       "3               NaN\n",
       "4        2019-02-13\n",
       "            ...    \n",
       "39826    2019-03-29\n",
       "39827    2019-07-21\n",
       "39828    2019-05-30\n",
       "39829    2021-10-27\n",
       "39830    2019-03-14\n",
       "Name: date, Length: 39831, dtype: object"
      ]
     },
     "execution_count": 45,
     "metadata": {},
     "output_type": "execute_result"
    }
   ],
   "source": [
    "locale.setlocale(locale.LC_ALL, 'en')\n",
    "\n",
    "df_steam['date'] = pd.to_datetime(df_steam['date'], errors='coerce')\n",
    "df_steam['date'].dt.strftime('%Y-%m-%d')"
   ]
  },
  {
   "cell_type": "code",
   "execution_count": 28,
   "metadata": {},
   "outputs": [
    {
     "data": {
      "text/html": [
       "<div>\n",
       "<style scoped>\n",
       "    .dataframe tbody tr th:only-of-type {\n",
       "        vertical-align: middle;\n",
       "    }\n",
       "\n",
       "    .dataframe tbody tr th {\n",
       "        vertical-align: top;\n",
       "    }\n",
       "\n",
       "    .dataframe thead th {\n",
       "        text-align: right;\n",
       "    }\n",
       "</style>\n",
       "<table border=\"1\" class=\"dataframe\">\n",
       "  <thead>\n",
       "    <tr style=\"text-align: right;\">\n",
       "      <th></th>\n",
       "      <th>appid</th>\n",
       "      <th>name</th>\n",
       "      <th>developer</th>\n",
       "      <th>publisher</th>\n",
       "      <th>genre</th>\n",
       "      <th>tags</th>\n",
       "      <th>is_free</th>\n",
       "      <th>initialprice</th>\n",
       "      <th>discount</th>\n",
       "      <th>ccu</th>\n",
       "      <th>...</th>\n",
       "      <th>mac_requirements_minimum</th>\n",
       "      <th>mac_requirements_recommended</th>\n",
       "      <th>linux_requirements_minimum</th>\n",
       "      <th>linux_requirements_recommended</th>\n",
       "      <th>steamspy_tags</th>\n",
       "      <th>meta_score</th>\n",
       "      <th>score_rank</th>\n",
       "      <th>header_image</th>\n",
       "      <th>website</th>\n",
       "      <th>languages</th>\n",
       "    </tr>\n",
       "  </thead>\n",
       "  <tbody>\n",
       "    <tr>\n",
       "      <th>0</th>\n",
       "      <td>10</td>\n",
       "      <td>Counter-Strike</td>\n",
       "      <td>Valve</td>\n",
       "      <td>Valve</td>\n",
       "      <td>Action</td>\n",
       "      <td>{'Action': 5374, 'FPS': 4797, 'Multiplayer': 3...</td>\n",
       "      <td>False</td>\n",
       "      <td>999</td>\n",
       "      <td>0</td>\n",
       "      <td>14139</td>\n",
       "      <td>...</td>\n",
       "      <td>OS X  Snow Leopard 10.6.3, 1GB RAM, 4GB Hard D...</td>\n",
       "      <td>NaN</td>\n",
       "      <td>Linux Ubuntu 12.04, Dual-core from Intel or AM...</td>\n",
       "      <td>NaN</td>\n",
       "      <td>Action, FPS, Multiplayer, Shooter, Classic, Te...</td>\n",
       "      <td>88.0</td>\n",
       "      <td>NaN</td>\n",
       "      <td>https://cdn.akamai.steamstatic.com/steam/apps/...</td>\n",
       "      <td>0</td>\n",
       "      <td>English, French, German, Italian, Spanish - Sp...</td>\n",
       "    </tr>\n",
       "    <tr>\n",
       "      <th>1</th>\n",
       "      <td>10090</td>\n",
       "      <td>Call of Duty: World at War</td>\n",
       "      <td>Treyarch</td>\n",
       "      <td>Activision</td>\n",
       "      <td>Action</td>\n",
       "      <td>{'Zombies': 1108, 'World War II': 818, 'FPS': ...</td>\n",
       "      <td>False</td>\n",
       "      <td>1999</td>\n",
       "      <td>0</td>\n",
       "      <td>519</td>\n",
       "      <td>...</td>\n",
       "      <td>NaN</td>\n",
       "      <td>NaN</td>\n",
       "      <td>NaN</td>\n",
       "      <td>NaN</td>\n",
       "      <td>Zombies, World War II, FPS, Multiplayer, Actio...</td>\n",
       "      <td>83.0</td>\n",
       "      <td>NaN</td>\n",
       "      <td>https://cdn.akamai.steamstatic.com/steam/apps/...</td>\n",
       "      <td>http://www.callofduty.com</td>\n",
       "      <td>English, French, Italian, German, Spanish - Spain</td>\n",
       "    </tr>\n",
       "  </tbody>\n",
       "</table>\n",
       "<p>2 rows × 27 columns</p>\n",
       "</div>"
      ],
      "text/plain": [
       "   appid                        name developer   publisher   genre  \\\n",
       "0     10              Counter-Strike     Valve       Valve  Action   \n",
       "1  10090  Call of Duty: World at War  Treyarch  Activision  Action   \n",
       "\n",
       "                                                tags  is_free initialprice  \\\n",
       "0  {'Action': 5374, 'FPS': 4797, 'Multiplayer': 3...    False          999   \n",
       "1  {'Zombies': 1108, 'World War II': 818, 'FPS': ...    False         1999   \n",
       "\n",
       "  discount    ccu  ...                           mac_requirements_minimum  \\\n",
       "0        0  14139  ...  OS X  Snow Leopard 10.6.3, 1GB RAM, 4GB Hard D...   \n",
       "1        0    519  ...                                                NaN   \n",
       "\n",
       "  mac_requirements_recommended  \\\n",
       "0                          NaN   \n",
       "1                          NaN   \n",
       "\n",
       "                          linux_requirements_minimum  \\\n",
       "0  Linux Ubuntu 12.04, Dual-core from Intel or AM...   \n",
       "1                                                NaN   \n",
       "\n",
       "  linux_requirements_recommended  \\\n",
       "0                            NaN   \n",
       "1                            NaN   \n",
       "\n",
       "                                       steamspy_tags meta_score score_rank  \\\n",
       "0  Action, FPS, Multiplayer, Shooter, Classic, Te...       88.0        NaN   \n",
       "1  Zombies, World War II, FPS, Multiplayer, Actio...       83.0        NaN   \n",
       "\n",
       "                                        header_image  \\\n",
       "0  https://cdn.akamai.steamstatic.com/steam/apps/...   \n",
       "1  https://cdn.akamai.steamstatic.com/steam/apps/...   \n",
       "\n",
       "                     website  \\\n",
       "0                          0   \n",
       "1  http://www.callofduty.com   \n",
       "\n",
       "                                           languages  \n",
       "0  English, French, German, Italian, Spanish - Sp...  \n",
       "1  English, French, Italian, German, Spanish - Spain  \n",
       "\n",
       "[2 rows x 27 columns]"
      ]
     },
     "execution_count": 28,
     "metadata": {},
     "output_type": "execute_result"
    }
   ],
   "source": [
    "df_steam.head(2)"
   ]
  },
  {
   "cell_type": "code",
   "execution_count": null,
   "metadata": {},
   "outputs": [],
   "source": [
    "df_steam[df_steam['date'] > '2021-10-01']"
   ]
  },
  {
   "cell_type": "code",
   "execution_count": 47,
   "metadata": {},
   "outputs": [],
   "source": [
    "df_steam.to_csv('D:/Projects/Github/games-requirements-checker/datasets/steam_dataset/steamapi/csv/steam_dataset.csv', index=False)"
   ]
  }
 ],
 "metadata": {
  "interpreter": {
   "hash": "5db2a8b9367106e423d58b885d74f2b2673b45a3f577c310b14f5bdd4a0e6131"
  },
  "kernelspec": {
   "display_name": "Python 3.10.1 64-bit",
   "language": "python",
   "name": "python3"
  },
  "language_info": {
   "codemirror_mode": {
    "name": "ipython",
    "version": 3
   },
   "file_extension": ".py",
   "mimetype": "text/x-python",
   "name": "python",
   "nbconvert_exporter": "python",
   "pygments_lexer": "ipython3",
   "version": "3.10.1"
  },
  "orig_nbformat": 4
 },
 "nbformat": 4,
 "nbformat_minor": 2
}
