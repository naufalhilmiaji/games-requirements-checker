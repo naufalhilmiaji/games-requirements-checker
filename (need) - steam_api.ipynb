{
 "cells": [
  {
   "cell_type": "markdown",
   "metadata": {},
   "source": [
    "# Collecting Steam API\n",
    "The data crawled from Steam Spy."
   ]
  },
  {
   "cell_type": "code",
   "execution_count": 12,
   "metadata": {},
   "outputs": [],
   "source": [
    "import pandas as pd\n",
    "import numpy as np\n",
    "import math, requests, json, re, time, sys, ast\n",
    "\n",
    "from tqdm import tqdm"
   ]
  },
  {
   "cell_type": "code",
   "execution_count": 2,
   "metadata": {},
   "outputs": [
    {
     "data": {
      "text/html": [
       "<div>\n",
       "<style scoped>\n",
       "    .dataframe tbody tr th:only-of-type {\n",
       "        vertical-align: middle;\n",
       "    }\n",
       "\n",
       "    .dataframe tbody tr th {\n",
       "        vertical-align: top;\n",
       "    }\n",
       "\n",
       "    .dataframe thead th {\n",
       "        text-align: right;\n",
       "    }\n",
       "</style>\n",
       "<table border=\"1\" class=\"dataframe\">\n",
       "  <thead>\n",
       "    <tr style=\"text-align: right;\">\n",
       "      <th></th>\n",
       "      <th>appid</th>\n",
       "      <th>name</th>\n",
       "      <th>release_date</th>\n",
       "      <th>developer</th>\n",
       "      <th>publisher</th>\n",
       "      <th>is_free</th>\n",
       "      <th>initialprice</th>\n",
       "      <th>languages</th>\n",
       "      <th>genre</th>\n",
       "      <th>tags</th>\n",
       "      <th>detailed_description</th>\n",
       "      <th>about_the_game</th>\n",
       "      <th>short_description</th>\n",
       "      <th>header_image</th>\n",
       "      <th>website</th>\n",
       "      <th>pc_requirements</th>\n",
       "      <th>mac_requirements</th>\n",
       "      <th>linux_requirements</th>\n",
       "    </tr>\n",
       "  </thead>\n",
       "  <tbody>\n",
       "    <tr>\n",
       "      <th>0</th>\n",
       "      <td>10</td>\n",
       "      <td>Counter-Strike</td>\n",
       "      <td>{'coming_soon': False, 'date': '1 Nov, 2000'}</td>\n",
       "      <td>Valve</td>\n",
       "      <td>Valve</td>\n",
       "      <td>False</td>\n",
       "      <td>999</td>\n",
       "      <td>English, French, German, Italian, Spanish - Sp...</td>\n",
       "      <td>Action</td>\n",
       "      <td>{'Action': 5374, 'FPS': 4797, 'Multiplayer': 3...</td>\n",
       "      <td>Play the world's number 1 online action game. ...</td>\n",
       "      <td>Play the world's number 1 online action game. ...</td>\n",
       "      <td>Play the world's number 1 online action game. ...</td>\n",
       "      <td>https://cdn.akamai.steamstatic.com/steam/apps/...</td>\n",
       "      <td>0</td>\n",
       "      <td>{'minimum': '\\r\\n\\t\\t\\t&lt;p&gt;&lt;strong&gt;Minimum:&lt;/st...</td>\n",
       "      <td>{'minimum': 'Minimum: OS X  Snow Leopard 10.6....</td>\n",
       "      <td>{'minimum': 'Minimum: Linux Ubuntu 12.04, Dual...</td>\n",
       "    </tr>\n",
       "    <tr>\n",
       "      <th>1</th>\n",
       "      <td>10090</td>\n",
       "      <td>Call of Duty: World at War</td>\n",
       "      <td>{'coming_soon': False, 'date': '18 Nov, 2008'}</td>\n",
       "      <td>Treyarch</td>\n",
       "      <td>Activision</td>\n",
       "      <td>False</td>\n",
       "      <td>1999</td>\n",
       "      <td>English, French, Italian, German, Spanish - Spain</td>\n",
       "      <td>Action</td>\n",
       "      <td>{'Zombies': 1108, 'World War II': 818, 'FPS': ...</td>\n",
       "      <td>Call of Duty is back, redefining war like you'...</td>\n",
       "      <td>Call of Duty is back, redefining war like you'...</td>\n",
       "      <td>Call of Duty is back, redefining war like you'...</td>\n",
       "      <td>https://cdn.akamai.steamstatic.com/steam/apps/...</td>\n",
       "      <td>http://www.callofduty.com</td>\n",
       "      <td>{'minimum': '&lt;ul class=\"bb_ul\"&gt;&lt;li&gt;&lt;strong&gt;Sup...</td>\n",
       "      <td>[]</td>\n",
       "      <td>[]</td>\n",
       "    </tr>\n",
       "  </tbody>\n",
       "</table>\n",
       "</div>"
      ],
      "text/plain": [
       "   appid                        name  \\\n",
       "0     10              Counter-Strike   \n",
       "1  10090  Call of Duty: World at War   \n",
       "\n",
       "                                     release_date developer   publisher  \\\n",
       "0   {'coming_soon': False, 'date': '1 Nov, 2000'}     Valve       Valve   \n",
       "1  {'coming_soon': False, 'date': '18 Nov, 2008'}  Treyarch  Activision   \n",
       "\n",
       "   is_free  initialprice                                          languages  \\\n",
       "0    False           999  English, French, German, Italian, Spanish - Sp...   \n",
       "1    False          1999  English, French, Italian, German, Spanish - Spain   \n",
       "\n",
       "    genre                                               tags  \\\n",
       "0  Action  {'Action': 5374, 'FPS': 4797, 'Multiplayer': 3...   \n",
       "1  Action  {'Zombies': 1108, 'World War II': 818, 'FPS': ...   \n",
       "\n",
       "                                detailed_description  \\\n",
       "0  Play the world's number 1 online action game. ...   \n",
       "1  Call of Duty is back, redefining war like you'...   \n",
       "\n",
       "                                      about_the_game  \\\n",
       "0  Play the world's number 1 online action game. ...   \n",
       "1  Call of Duty is back, redefining war like you'...   \n",
       "\n",
       "                                   short_description  \\\n",
       "0  Play the world's number 1 online action game. ...   \n",
       "1  Call of Duty is back, redefining war like you'...   \n",
       "\n",
       "                                        header_image  \\\n",
       "0  https://cdn.akamai.steamstatic.com/steam/apps/...   \n",
       "1  https://cdn.akamai.steamstatic.com/steam/apps/...   \n",
       "\n",
       "                     website  \\\n",
       "0                          0   \n",
       "1  http://www.callofduty.com   \n",
       "\n",
       "                                     pc_requirements  \\\n",
       "0  {'minimum': '\\r\\n\\t\\t\\t<p><strong>Minimum:</st...   \n",
       "1  {'minimum': '<ul class=\"bb_ul\"><li><strong>Sup...   \n",
       "\n",
       "                                    mac_requirements  \\\n",
       "0  {'minimum': 'Minimum: OS X  Snow Leopard 10.6....   \n",
       "1                                                 []   \n",
       "\n",
       "                                  linux_requirements  \n",
       "0  {'minimum': 'Minimum: Linux Ubuntu 12.04, Dual...  \n",
       "1                                                 []  "
      ]
     },
     "execution_count": 2,
     "metadata": {},
     "output_type": "execute_result"
    }
   ],
   "source": [
    "df = pd.read_csv('datasets/steam_dataset/steamapi/csv/steamapp_api.csv',sep=',')\n",
    "df.head(2)"
   ]
  },
  {
   "cell_type": "code",
   "execution_count": 14,
   "metadata": {},
   "outputs": [
    {
     "data": {
      "text/plain": [
       "'1 Nov, 2000'"
      ]
     },
     "execution_count": 14,
     "metadata": {},
     "output_type": "execute_result"
    }
   ],
   "source": [
    "x = ast.literal_eval(df['release_date'][0])\n",
    "x['date']"
   ]
  },
  {
   "cell_type": "markdown",
   "metadata": {},
   "source": [
    "## Requesting Steam Spy API - Game Summaries\n",
    "Iterating through Steam Spy API pages to get the JSON files and convert it to CSV and Pandas DataFrame."
   ]
  },
  {
   "cell_type": "code",
   "execution_count": null,
   "metadata": {},
   "outputs": [],
   "source": [
    "# urls = []\n",
    "# json_list = []\n",
    "\n",
    "# print('Listing URLs...')\n",
    "# for i in range(50):\n",
    "#     urls.append(f'https://steamspy.com/api.php?request=all&page={i}')\n",
    "\n",
    "# print('Done listing.\\n----------------------')\n",
    "# print('Loading JSON...')\n",
    "\n",
    "# for url in urls:\n",
    "#     data = requests.get(url)\n",
    "#     if data.status_code != 200:\n",
    "#         print(f'Error: {url}')\n",
    "#         continue\n",
    "\n",
    "#     json_list.append(data.json())\n",
    "#     time.sleep(60)\n",
    "\n",
    "# print('Loading successful!')"
   ]
  },
  {
   "cell_type": "markdown",
   "metadata": {},
   "source": [
    "Dumping JSON to files."
   ]
  },
  {
   "cell_type": "code",
   "execution_count": null,
   "metadata": {},
   "outputs": [],
   "source": [
    "# with open('datasets/steam_dataset/json/steamapi_games.json', 'w+') as f:\n",
    "#     json.dump(json_list, f, sort_keys=True, indent=None)"
   ]
  },
  {
   "cell_type": "code",
   "execution_count": null,
   "metadata": {},
   "outputs": [],
   "source": [
    "# df = pd.DataFrame(json_list).to_csv('test.csv', encoding='utf-8', index=False, sep=\";\")"
   ]
  },
  {
   "cell_type": "code",
   "execution_count": null,
   "metadata": {},
   "outputs": [],
   "source": [
    "# file = open('datasets/steam_dataset/steamapi/json/steamapp_api.json')\n",
    "# steamapp_api = json.load(file)"
   ]
  },
  {
   "cell_type": "code",
   "execution_count": null,
   "metadata": {},
   "outputs": [],
   "source": [
    "# list(steamapp_api[0].values())[0]"
   ]
  },
  {
   "cell_type": "code",
   "execution_count": null,
   "metadata": {},
   "outputs": [],
   "source": [
    "# def get_json_values(api):\n",
    "#     values = []\n",
    "#     for i in range(len(api)):\n",
    "#         for j in range(len(api[i])):\n",
    "#             values.append(list(api[i].values())[j])\n",
    "#     return values"
   ]
  },
  {
   "cell_type": "code",
   "execution_count": null,
   "metadata": {},
   "outputs": [],
   "source": [
    "# json_values = get_json_values(steamapp_api)\n",
    "# json_values"
   ]
  },
  {
   "cell_type": "code",
   "execution_count": null,
   "metadata": {},
   "outputs": [],
   "source": [
    "# df_game_summaries = pd.DataFrame(json_values)\n",
    "# df_game_summaries.head(3)"
   ]
  },
  {
   "cell_type": "code",
   "execution_count": null,
   "metadata": {},
   "outputs": [],
   "source": [
    "# len(df_game_summaries)"
   ]
  },
  {
   "cell_type": "code",
   "execution_count": null,
   "metadata": {},
   "outputs": [],
   "source": [
    "# df_game_summaries.to_csv('datasets/steam_dataset/steamapi/csv/game_summaries.csv')"
   ]
  },
  {
   "cell_type": "markdown",
   "metadata": {},
   "source": [
    "## Requesting Steam Spy API - Game Details\n",
    "Getting game details from Steam Spy API based on games id (```appid```)."
   ]
  },
  {
   "cell_type": "code",
   "execution_count": null,
   "metadata": {},
   "outputs": [],
   "source": [
    "df_game_summaries = pd.read_csv('datasets/steam_dataset/steamapi/csv/game_summaries.csv', sep=',')"
   ]
  },
  {
   "cell_type": "code",
   "execution_count": null,
   "metadata": {},
   "outputs": [],
   "source": [
    "list_of_appids = df_game_summaries['appid'].to_list()\n",
    "list_of_appids[0]"
   ]
  },
  {
   "cell_type": "code",
   "execution_count": null,
   "metadata": {},
   "outputs": [],
   "source": [
    "json_list_details = []"
   ]
  },
  {
   "cell_type": "code",
   "execution_count": null,
   "metadata": {},
   "outputs": [],
   "source": [
    "def get_seconds(prev, duration):\n",
    "    next = prev + duration\n",
    "    return next"
   ]
  },
  {
   "cell_type": "code",
   "execution_count": null,
   "metadata": {},
   "outputs": [],
   "source": [
    "32400 + 3600"
   ]
  },
  {
   "cell_type": "code",
   "execution_count": null,
   "metadata": {},
   "outputs": [],
   "source": [
    "prev = 32400 # nanti berarti prev -> 36000\n",
    "next = get_seconds(prev, 10)"
   ]
  },
  {
   "cell_type": "code",
   "execution_count": null,
   "metadata": {},
   "outputs": [],
   "source": [
    "urls_details = []\n",
    "failed_request_id = []\n",
    "\n",
    "print('Listing URLs...')\n",
    "for i in range(prev, next):\n",
    "    urls_details.append(f'https://steamspy.com/api.php?request=appdetails&appid={list_of_appids[i]}')\n",
    "\n",
    "print('Done listing.\\n----------------------')\n",
    "print('Loading JSON...')\n",
    "\n",
    "for url in tqdm(urls_details):\n",
    "    data = requests.get(url)\n",
    "    if data.status_code != 200:\n",
    "        print(f'Error: {url}')\n",
    "        failed_request_id.append(url)\n",
    "        continue\n",
    "\n",
    "    json_list_details.append(data.json())\n",
    "    time.sleep(1)\n",
    "\n",
    "print('Loading successful!')"
   ]
  },
  {
   "cell_type": "markdown",
   "metadata": {},
   "source": [
    "Create dataframe of JSON list details and convert into CSV file."
   ]
  },
  {
   "cell_type": "code",
   "execution_count": null,
   "metadata": {},
   "outputs": [],
   "source": [
    "df_game_details = pd.DataFrame(json_list_details)\n",
    "df_game_details.head(3)"
   ]
  },
  {
   "cell_type": "code",
   "execution_count": null,
   "metadata": {},
   "outputs": [],
   "source": [
    "len(df_game_details)"
   ]
  },
  {
   "cell_type": "code",
   "execution_count": null,
   "metadata": {},
   "outputs": [],
   "source": [
    "df_game_details.head(3)"
   ]
  },
  {
   "cell_type": "code",
   "execution_count": null,
   "metadata": {},
   "outputs": [],
   "source": [
    "df_game_details.to_csv('datasets/steam_dataset/steamapi/csv/game_details.csv')"
   ]
  },
  {
   "cell_type": "markdown",
   "metadata": {},
   "source": [
    "Extending JSON list into one JSON file."
   ]
  },
  {
   "cell_type": "code",
   "execution_count": null,
   "metadata": {},
   "outputs": [],
   "source": [
    "with open('datasets/steam_dataset/steamapi/json/steamapp_details.json', \"r\") as file:\n",
    "    game_details = json.load(file)\n",
    "\n",
    "json_drop_duplicates = {each['appid'] : each for each in game_details}.values()\n",
    "game_details.extend(json_list_details) # di mana data = json list dari hasil crawling."
   ]
  },
  {
   "cell_type": "markdown",
   "metadata": {},
   "source": [
    "Writing into a JSON file."
   ]
  },
  {
   "cell_type": "code",
   "execution_count": null,
   "metadata": {},
   "outputs": [],
   "source": [
    "with open('datasets/steam_dataset/steamapi/json/steamapp_details.json', 'w+') as file:\n",
    "    json.dump(game_details, file, sort_keys=True, indent=None)"
   ]
  },
  {
   "cell_type": "code",
   "execution_count": null,
   "metadata": {},
   "outputs": [],
   "source": [
    "len(game_details)"
   ]
  },
  {
   "cell_type": "code",
   "execution_count": null,
   "metadata": {},
   "outputs": [],
   "source": [
    "df_game_summaries = pd.read_csv('datasets/steam_dataset/steamapi/csv/game_summaries.csv', sep=',')\n",
    "with open('datasets/steam_dataset/steamapi/json/steamapp_details.json', \"r\") as file:\n",
    "    json_file = json.load(file)\n",
    "json_drop_duplicates = {each['appid'] : each for each in json_file}.values()\n",
    "\n",
    "df_json = pd.DataFrame(json_drop_duplicates).astype(str)"
   ]
  },
  {
   "cell_type": "code",
   "execution_count": null,
   "metadata": {},
   "outputs": [],
   "source": [
    "len(df_game_summaries)"
   ]
  },
  {
   "cell_type": "code",
   "execution_count": null,
   "metadata": {},
   "outputs": [],
   "source": [
    "len(df_json)"
   ]
  },
  {
   "cell_type": "code",
   "execution_count": null,
   "metadata": {},
   "outputs": [],
   "source": [
    "df_json['appid'] = df_json['appid'].astype(np.int64)"
   ]
  },
  {
   "cell_type": "code",
   "execution_count": null,
   "metadata": {},
   "outputs": [],
   "source": [
    "df_excluded = df_game_summaries[~df_game_summaries['appid'].duplicated()]"
   ]
  },
  {
   "cell_type": "code",
   "execution_count": null,
   "metadata": {},
   "outputs": [],
   "source": [
    "len(df_excluded)"
   ]
  },
  {
   "cell_type": "code",
   "execution_count": null,
   "metadata": {},
   "outputs": [],
   "source": [
    "appid_summaries = set(df_excluded['appid'].to_list())\n",
    "appid_json = set(df_json['appid'].to_list())"
   ]
  },
  {
   "cell_type": "code",
   "execution_count": null,
   "metadata": {},
   "outputs": [],
   "source": [
    "diff = appid_summaries - appid_json"
   ]
  },
  {
   "cell_type": "code",
   "execution_count": null,
   "metadata": {},
   "outputs": [],
   "source": [
    "len(diff)"
   ]
  },
  {
   "cell_type": "code",
   "execution_count": null,
   "metadata": {},
   "outputs": [],
   "source": [
    "len(df_json) + len(diff)"
   ]
  },
  {
   "cell_type": "code",
   "execution_count": null,
   "metadata": {},
   "outputs": [],
   "source": [
    "len(df_json)"
   ]
  },
  {
   "cell_type": "code",
   "execution_count": 2,
   "metadata": {},
   "outputs": [
    {
     "name": "stdout",
     "output_type": "stream",
     "text": [
      "[125, 126]\n"
     ]
    }
   ],
   "source": [
    "x = [123, 122, 124, 125, 126]\n",
    "print(x[3:5])"
   ]
  },
  {
   "cell_type": "code",
   "execution_count": null,
   "metadata": {},
   "outputs": [],
   "source": []
  }
 ],
 "metadata": {
  "interpreter": {
   "hash": "5db2a8b9367106e423d58b885d74f2b2673b45a3f577c310b14f5bdd4a0e6131"
  },
  "kernelspec": {
   "display_name": "Python 3.10.1 64-bit",
   "language": "python",
   "name": "python3"
  },
  "language_info": {
   "codemirror_mode": {
    "name": "ipython",
    "version": 3
   },
   "file_extension": ".py",
   "mimetype": "text/x-python",
   "name": "python",
   "nbconvert_exporter": "python",
   "pygments_lexer": "ipython3",
   "version": "3.10.1"
  },
  "orig_nbformat": 4
 },
 "nbformat": 4,
 "nbformat_minor": 2
}
